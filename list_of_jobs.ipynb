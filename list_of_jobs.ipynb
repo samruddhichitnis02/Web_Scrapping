{
 "cells": [
  {
   "cell_type": "code",
   "execution_count": 44,
   "metadata": {},
   "outputs": [],
   "source": [
    "import urllib.request\n",
    "import urllib.parse\n",
    "import re"
   ]
  },
  {
   "cell_type": "code",
   "execution_count": 111,
   "metadata": {},
   "outputs": [],
   "source": [
    "def job_links(job, city):\n",
    "    \n",
    "    jobs = ('http://www.indeed.co.in/jobs?q=' + job + '&l=' + city)\n",
    "    \n",
    "    return jobs"
   ]
  },
  {
   "cell_type": "code",
   "execution_count": 82,
   "metadata": {},
   "outputs": [
    {
     "data": {
      "text/plain": [
       "'http://www.indeed.co.in/jobs?q=data scientist&l=banglore'"
      ]
     },
     "execution_count": 82,
     "metadata": {},
     "output_type": "execute_result"
    }
   ],
   "source": [
    "# job = 'data scientist'\n",
    "# city = 'banglore'\n",
    "# job_links(job, city)"
   ]
  },
  {
   "cell_type": "code",
   "execution_count": 110,
   "metadata": {},
   "outputs": [
    {
     "name": "stdout",
     "output_type": "stream",
     "text": [
      "['http://www.indeed.co.in/jobs?q=data Scientist&l=banglore', 'http://www.indeed.co.in/jobs?q=data Scientist&l=chennai', 'http://www.indeed.co.in/jobs?q=data Scientist&l=pune', 'http://www.indeed.co.in/jobs?q=data Scientist&l=mumbai', 'http://www.indeed.co.in/jobs?q=data Scientist&l=delhi']\n"
     ]
    }
   ],
   "source": [
    "jobs = 'data Scientist'\n",
    "#city = ['banglore', 'chennai', 'pune', 'mumbai', 'delhi']\n",
    "job = [ ]\n",
    "for i in range (0,len(city)):\n",
    "    job.append(job_links(jobs, city[i]))\n",
    "    \n",
    "print(job)"
   ]
  }
 ],
 "metadata": {
  "kernelspec": {
   "display_name": "Python 3",
   "language": "python",
   "name": "python3"
  },
  "language_info": {
   "codemirror_mode": {
    "name": "ipython",
    "version": 3
   },
   "file_extension": ".py",
   "mimetype": "text/x-python",
   "name": "python",
   "nbconvert_exporter": "python",
   "pygments_lexer": "ipython3",
   "version": "3.7.4"
  }
 },
 "nbformat": 4,
 "nbformat_minor": 2
}
